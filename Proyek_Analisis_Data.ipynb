{
  "cells": [
    {
      "cell_type": "markdown",
      "metadata": {
        "id": "H9wADwK78DCz"
      },
      "source": [
        "# Proyek Analisis Data: [Input Nama Dataset]\n",
        "- **Nama:** Firda Humaira\n",
        "- **Email:** firdahumaira13@gmail.com\n",
        "- **ID Dicoding:** firdahum"
      ]
    },
    {
      "cell_type": "markdown",
      "metadata": {
        "id": "eE0raob58DC0"
      },
      "source": [
        "## Menentukan Pertanyaan Bisnis"
      ]
    },
    {
      "cell_type": "markdown",
      "metadata": {
        "id": "GmQeQ5YF8DC0"
      },
      "source": [
        "- Apakah hari libur memiliki dampak signifikan terhadap jumlah penyewaan?\n",
        "- Seberapa besar dampak suhu terhadap keputusan pengguna untuk menggunakan sepeda?\n",
        "- Bagaimana pola penyewaan sepeda berdasarkan waktu dalam sehari (jam sibuk vs. jam sepi)?"
      ]
    },
    {
      "cell_type": "markdown",
      "metadata": {
        "id": "H-z4QGlO8DC1"
      },
      "source": [
        "## Import Semua Packages/Library yang Digunakan"
      ]
    },
    {
      "cell_type": "code",
      "execution_count": null,
      "metadata": {
        "id": "FVYwaObI8DC1"
      },
      "outputs": [
        {
          "ename": "",
          "evalue": "",
          "output_type": "error",
          "traceback": [
            "\u001b[1;31mRunning cells with 'Python 3.11.0' requires the ipykernel package.\n",
            "\u001b[1;31mRun the following command to install 'ipykernel' into the Python environment. \n",
            "\u001b[1;31mCommand: '\"c:/Program Files/Python311/python.exe\" -m pip install ipykernel -U --user --force-reinstall'"
          ]
        }
      ],
      "source": [
        "import pandas as pd\n",
        "import numpy as np\n",
        "import matplotlib.pyplot as plt\n",
        "import seaborn as sns"
      ]
    },
    {
      "cell_type": "markdown",
      "metadata": {
        "id": "h_Sh51Xy8DC1"
      },
      "source": [
        "## Data Wrangling"
      ]
    },
    {
      "cell_type": "markdown",
      "metadata": {
        "id": "sXU2GBYu8DC1"
      },
      "source": [
        "### Gathering Data"
      ]
    },
    {
      "cell_type": "code",
      "execution_count": null,
      "metadata": {
        "colab": {
          "base_uri": "https://localhost:8080/",
          "height": 206
        },
        "id": "zjCBk1BI8DC1",
        "outputId": "fad8643c-c471-44b0-f6f5-090d7c5cf1d6"
      },
      "outputs": [],
      "source": [
        "hour_df = pd.read_csv(\"hour.csv\")\n",
        "hour_df.head()"
      ]
    },
    {
      "cell_type": "code",
      "execution_count": null,
      "metadata": {
        "colab": {
          "base_uri": "https://localhost:8080/",
          "height": 206
        },
        "id": "tsA6x8aiyG3d",
        "outputId": "5ebe3272-fe11-4a8e-f726-0b0276a6e9cf"
      },
      "outputs": [],
      "source": [
        "day_df = pd.read_csv(\"day.csv\")\n",
        "day_df.head()"
      ]
    },
    {
      "cell_type": "markdown",
      "metadata": {
        "id": "MMi6xGaDkbCi"
      },
      "source": [
        "**Insight:**\n",
        "- day.csv = Berisikan data yang sudah dirangkum, sehingga tidak mencatat detail penggunaan per jam dan tidak memiliki kolom hr.\n",
        "- hour.csv = Berisikan data yang yang mencatat penyewaan tiap jam."
      ]
    },
    {
      "cell_type": "markdown",
      "metadata": {
        "id": "FHSiqaZp8DC1"
      },
      "source": [
        "## Assessing Data"
      ]
    },
    {
      "cell_type": "markdown",
      "metadata": {
        "id": "sF1msIB21T69"
      },
      "source": [
        "###Menilai Tabel\n"
      ]
    },
    {
      "cell_type": "code",
      "execution_count": null,
      "metadata": {
        "colab": {
          "base_uri": "https://localhost:8080/"
        },
        "id": "ax-3tEjc9Cj1",
        "outputId": "b71700fe-16ad-4f4d-ee23-1475c5ab7678"
      },
      "outputs": [],
      "source": [
        "hour_df.info()\n",
        "day_df.info()"
      ]
    },
    {
      "cell_type": "markdown",
      "metadata": {
        "id": "KIcDC2Hz2Cd0"
      },
      "source": [
        "###Periksa data missing value"
      ]
    },
    {
      "cell_type": "code",
      "execution_count": null,
      "metadata": {
        "colab": {
          "base_uri": "https://localhost:8080/",
          "height": 617
        },
        "id": "WwGgcsI-2HBm",
        "outputId": "162c0f03-1f11-493a-b647-da7268e78bb4"
      },
      "outputs": [],
      "source": [
        "hour_df.isna().sum()"
      ]
    },
    {
      "cell_type": "code",
      "execution_count": null,
      "metadata": {
        "colab": {
          "base_uri": "https://localhost:8080/",
          "height": 585
        },
        "id": "WtAmTUu01wUH",
        "outputId": "1e8b6276-c16b-4ddc-e20f-848cb1c8b6df"
      },
      "outputs": [],
      "source": [
        "day_df.isna().sum()"
      ]
    },
    {
      "cell_type": "markdown",
      "metadata": {
        "id": "Dxj2UO7g2zUk"
      },
      "source": [
        "###Memeriksa data yang duplikat"
      ]
    },
    {
      "cell_type": "code",
      "execution_count": null,
      "metadata": {
        "colab": {
          "base_uri": "https://localhost:8080/"
        },
        "id": "rCUCkACR227X",
        "outputId": "cae1a3d1-ae6d-4d7d-eeff-3d2aeaeb67a9"
      },
      "outputs": [],
      "source": [
        "print(\"Jumlah duplikasi hour_df: \", hour_df.duplicated().sum())\n",
        "print(\"Jumlah duplikasi day_df: \", day_df.duplicated().sum())"
      ]
    },
    {
      "cell_type": "markdown",
      "metadata": {
        "id": "wOwdFE0O4HsA"
      },
      "source": [
        "Menampilkan ringkasan"
      ]
    },
    {
      "cell_type": "code",
      "execution_count": null,
      "metadata": {
        "colab": {
          "base_uri": "https://localhost:8080/",
          "height": 320
        },
        "id": "z1C4saXz4IIt",
        "outputId": "d4024eda-df69-4061-da10-6d6926a5e3d9"
      },
      "outputs": [],
      "source": [
        "hour_df.describe()"
      ]
    },
    {
      "cell_type": "code",
      "execution_count": null,
      "metadata": {
        "colab": {
          "base_uri": "https://localhost:8080/",
          "height": 528
        },
        "id": "IaTn5YnD4zTS",
        "outputId": "13ff9bea-759f-465c-dadb-d76639f322d6"
      },
      "outputs": [],
      "source": [
        "day_df.describe()"
      ]
    },
    {
      "cell_type": "markdown",
      "metadata": {
        "id": "7dtxhAPrkhPL"
      },
      "source": [
        "**Insight:**\n",
        "- Terdapat kesalahan pada tipe data pada file hour_df dan day_df, pada variabel dteday seharusnya tipe datanya datetime\n",
        "- Tidak terdapat data yang missing values\n",
        "- Tidak ada data yang duplicate"
      ]
    },
    {
      "cell_type": "markdown",
      "metadata": {
        "id": "EhN5R4hr8DC1"
      },
      "source": [
        "## Cleaning Data"
      ]
    },
    {
      "cell_type": "markdown",
      "metadata": {
        "id": "ykOE-33O6pjU"
      },
      "source": [
        "###Mengganti Tipe Data pada Variabel dteday"
      ]
    },
    {
      "cell_type": "code",
      "execution_count": null,
      "metadata": {
        "id": "Y0NrYzKL-m0G"
      },
      "outputs": [],
      "source": [
        "datetime_columns = [\"dteday\"]\n",
        "\n",
        "for column in datetime_columns:\n",
        "  hour_df[column] = pd.to_datetime(hour_df[column])"
      ]
    },
    {
      "cell_type": "code",
      "execution_count": null,
      "metadata": {
        "colab": {
          "base_uri": "https://localhost:8080/"
        },
        "id": "ruLfVFCe_2uS",
        "outputId": "f266fed7-9d07-4aac-846c-e3b273f9a78a"
      },
      "outputs": [],
      "source": [
        "hour_df.info()"
      ]
    },
    {
      "cell_type": "code",
      "execution_count": null,
      "metadata": {
        "id": "NEBZIlp1_aht"
      },
      "outputs": [],
      "source": [
        "datetime_columns = [\"dteday\"]\n",
        "\n",
        "for column in datetime_columns:\n",
        "  day_df[column] = pd.to_datetime(day_df[column])"
      ]
    },
    {
      "cell_type": "code",
      "execution_count": null,
      "metadata": {
        "colab": {
          "base_uri": "https://localhost:8080/"
        },
        "id": "u1w8UIJo_Tj2",
        "outputId": "7ad43f84-efd0-4669-853c-eac4f94c2477"
      },
      "outputs": [],
      "source": [
        "day_df.info()"
      ]
    },
    {
      "cell_type": "markdown",
      "metadata": {
        "id": "Q_5ejIqckiSP"
      },
      "source": [
        "**Insight:**\n",
        "- Memperbaiki tipe data variabel dteday dari object ke datetime\n"
      ]
    },
    {
      "cell_type": "markdown",
      "metadata": {
        "id": "gp-Y6wU38DC1"
      },
      "source": [
        "## Exploratory Data Analysis (EDA)"
      ]
    },
    {
      "cell_type": "markdown",
      "metadata": {
        "id": "MW7WF2kr8DC1"
      },
      "source": [
        "### Explore day_df"
      ]
    },
    {
      "cell_type": "markdown",
      "metadata": {
        "id": "XeZCiVycivBl"
      },
      "source": [
        "####Rata-rata penyewaan per-bulan"
      ]
    },
    {
      "cell_type": "code",
      "execution_count": null,
      "metadata": {
        "colab": {
          "base_uri": "https://localhost:8080/",
          "height": 491
        },
        "id": "e9CQCZjk8DC2",
        "outputId": "b245f7ec-25c9-4605-cb80-a09d5acce582"
      },
      "outputs": [],
      "source": [
        "perbulan = day_df.groupby(\"mnth\")[\"cnt\"].mean()\n",
        "perbulan"
      ]
    },
    {
      "cell_type": "markdown",
      "metadata": {
        "id": "W2DDNpu4O-an"
      },
      "source": [
        "####Rata-rata Penyewaan Sepeda per Musim"
      ]
    },
    {
      "cell_type": "code",
      "execution_count": null,
      "metadata": {
        "colab": {
          "base_uri": "https://localhost:8080/",
          "height": 241
        },
        "id": "1t2LBZqyJoZp",
        "outputId": "6ee40257-37a9-4349-e4a5-311a30431186"
      },
      "outputs": [],
      "source": [
        "permusim = day_df.groupby(\"season\")[\"cnt\"].mean()\n",
        "permusim"
      ]
    },
    {
      "cell_type": "markdown",
      "metadata": {
        "id": "sdt42JVBkj0K"
      },
      "source": [
        "###Explore hour_df"
      ]
    },
    {
      "cell_type": "code",
      "execution_count": null,
      "metadata": {
        "colab": {
          "base_uri": "https://localhost:8080/",
          "height": 868
        },
        "id": "P93DuAnBjvPX",
        "outputId": "d876dc13-1ebb-46cd-f046-5810df6ac40e"
      },
      "outputs": [],
      "source": [
        "perjam = hour_df.groupby(\"hr\")[\"cnt\"].mean()\n",
        "perjam"
      ]
    },
    {
      "cell_type": "code",
      "execution_count": null,
      "metadata": {
        "colab": {
          "base_uri": "https://localhost:8080/",
          "height": 241
        },
        "id": "5IootSomkKBG",
        "outputId": "827c0333-6b9c-4b0d-de90-cc9afb07daf3"
      },
      "outputs": [],
      "source": [
        "casual_terdaftar = day_df.groupby(\"season\")[\"casual\"].sum()\n",
        "casual_terdaftar"
      ]
    },
    {
      "cell_type": "code",
      "execution_count": null,
      "metadata": {
        "colab": {
          "base_uri": "https://localhost:8080/",
          "height": 206
        },
        "id": "hL9zOlooGo9k",
        "outputId": "866c15e7-a11e-4c18-dd22-e4234f5eb77c"
      },
      "outputs": [],
      "source": [
        "merge_df = hour_df.merge(day_df[['dteday', 'cnt']], on='dteday', how='left', suffixes=('_hourly', '_daily'))\n",
        "merge_df.head()"
      ]
    },
    {
      "cell_type": "code",
      "execution_count": null,
      "metadata": {
        "colab": {
          "base_uri": "https://localhost:8080/"
        },
        "id": "ShuqneyyIo3M",
        "outputId": "e38c1d66-8f45-4cb0-ccdd-7c72603e2fe4"
      },
      "outputs": [],
      "source": [
        "merge_df.info()"
      ]
    },
    {
      "cell_type": "markdown",
      "metadata": {
        "id": "th_Lzl2Fkj9O"
      },
      "source": [
        "**Insight:**\n",
        "- day_df\n",
        "\n",
        "**Rata-Rata Penyewaan Sepeda per Bulan**\n",
        "\n",
        "Bulan dengan penyewaan tertinggi terjadi pada Juli dan Agustus, sementara bulan dengan penyewaan terendah cenderung berada di Januari dan Februari akibat musim dingin.\n",
        "\n",
        "\n",
        "**Rata-Rata Penyewaan Sepeda per Musim**\n",
        "\n",
        "Musim panas mencatatkan rata-rata penyewaan tertinggi. Musim gugur juga memiliki angka penyewaan yang cukup tinggi. Sebaliknya, musim dingin mencatatkan jumlah penyewaan terendah. Musim semi ada peningkatan jumlah penyewaan dibanding musim dingin, tetapi tetap lebih rendah dibandingkan musim panas.\n",
        "\n",
        "- hour_df\n",
        "\n",
        "**Rata-Rata Penyewaan Sepeda per Jam**\n",
        "\n",
        "Penyewaan sepeda paling ramai di jam 07:00-09:00 dan 17:00-19:00. Pada siang hari (10:00-15:00), jumlah penyewaan tetap stabil namun lebih rendah dibandingkan jam sibuk. Sementara itu, pada dini hari (00:00-05:00), penyewaan sepeda berada pada titik terendah.\n",
        "\n",
        "**Perbedaan Penyewaan antara Pengguna Kasual dan Terdaftar**\n",
        "\n",
        "Pengguna terdaftar lebih sering nyewa sepeda di jam-jam sibuk. Sebaliknya, pengguna kasual lebih sering pakai sepeda pas akhir pekan atau di luar jam sibuk"
      ]
    },
    {
      "cell_type": "markdown",
      "metadata": {
        "id": "zsyZjqak8DC2"
      },
      "source": [
        "## Visualization & Explanatory Analysis"
      ]
    },
    {
      "cell_type": "markdown",
      "metadata": {
        "id": "UnhZN-xNrDQk"
      },
      "source": [
        "- Apakah hari libur memiliki dampak signifikan terhadap jumlah penyewaan?\n",
        "- Seberapa besar dampak suhu terhadap keputusan pengguna untuk menggunakan sepeda?\n",
        "- Bagaimana pola penyewaan sepeda berdasarkan waktu dalam sehari (jam sibuk vs. jam sepi)?"
      ]
    },
    {
      "cell_type": "markdown",
      "metadata": {
        "id": "HZxOiQ6n8DC2"
      },
      "source": [
        "### Pertanyaan 1: Apakah hari libur memiliki dampak signifikan terhadap jumlah penyewaan?"
      ]
    },
    {
      "cell_type": "code",
      "execution_count": null,
      "metadata": {
        "colab": {
          "base_uri": "https://localhost:8080/"
        },
        "id": "xIt-FIo-GKrW",
        "outputId": "c66cc02b-8120-431d-99e5-2a915947ff6d"
      },
      "outputs": [],
      "source": [
        "# Cek jumlah hari libur dan hari biasa\n",
        "jumlah_hari_libur = hour_df[\"holiday\"].value_counts()\n",
        "print(\"Jumlah hari libur:\", jumlah_hari_libur.get(1, 0))\n",
        "print(\"Jumlah hari biasa:\", jumlah_hari_libur.get(0, 0))"
      ]
    },
    {
      "cell_type": "code",
      "execution_count": null,
      "metadata": {
        "colab": {
          "base_uri": "https://localhost:8080/"
        },
        "id": "EdcW2HOrGMC0",
        "outputId": "b5411ecc-1ab7-4f14-dc03-156c8151aac5"
      },
      "outputs": [],
      "source": [
        "# Cek jumlah hari libur dan hari biasa\n",
        "jumlah_hari_libur = day_df[\"holiday\"].value_counts()\n",
        "print(\"Jumlah hari libur:\", jumlah_hari_libur.get(1, 0))\n",
        "print(\"Jumlah hari biasa:\", jumlah_hari_libur.get(0, 0))"
      ]
    },
    {
      "cell_type": "code",
      "execution_count": null,
      "metadata": {
        "colab": {
          "base_uri": "https://localhost:8080/",
          "height": 465
        },
        "id": "1swJUdAD8DC2",
        "outputId": "15b18cc3-1977-4d1c-ef52-f1d2941c1d7c"
      },
      "outputs": [],
      "source": [
        "plt.figure(figsize=(8, 5))\n",
        "sns.barplot(x=day_df[\"holiday\"].map({0: \"Hari Libur\", 1: \"Hari Biasa\"}), y=merge_df[\"cnt_daily\"], hue=merge_df[\"holiday\"].map({0: \"Hari Libur\", 1: \"Hari Biasa\"}), palette=\"Set2\", legend=False)\n",
        "plt.xlabel(\"Jenis Hari\")\n",
        "plt.ylabel(\"Rata-rata Penyewaan\")\n",
        "plt.grid(True)\n",
        "plt.show()"
      ]
    },
    {
      "cell_type": "markdown",
      "metadata": {
        "id": "DgHI7CiU8DC2"
      },
      "source": [
        "### Pertanyaan 2: Seberapa besar dampak suhu terhadap keputusan pengguna untuk menggunakan sepeda?"
      ]
    },
    {
      "cell_type": "code",
      "execution_count": null,
      "metadata": {
        "colab": {
          "base_uri": "https://localhost:8080/",
          "height": 487
        },
        "id": "Go0lCsvO8DC2",
        "outputId": "0907c466-25b1-4b6d-aebd-6156a9db345e"
      },
      "outputs": [],
      "source": [
        "merge_daily = merge_df.groupby(\"dteday\").agg({\"temp\": \"mean\", \"cnt_daily\": \"mean\"}).reset_index()\n",
        "\n",
        "plt.figure(figsize=(8, 5))\n",
        "sns.regplot(x=merge_daily[\"temp\"], y=merge_daily[\"cnt_daily\"], scatter_kws={\"alpha\": 0.5}, line_kws={\"color\": \"red\"})\n",
        "plt.title(\"Dampak Suhu terhadap Penyewaan Sepeda\")\n",
        "plt.xlabel(\"Suhu\")\n",
        "plt.ylabel(\"Jumlah Penyewaan Harian\")\n",
        "plt.grid(True)\n",
        "plt.show()"
      ]
    },
    {
      "cell_type": "markdown",
      "metadata": {
        "id": "CDlqHcil0ZbN"
      },
      "source": [
        "### Pertanyaan 3: Bagaimana pola penyewaan sepeda berdasarkan waktu dalam sehari (jam sibuk vs. jam sepi)?"
      ]
    },
    {
      "cell_type": "code",
      "execution_count": null,
      "metadata": {
        "id": "4ZuLfoB41SOU"
      },
      "outputs": [],
      "source": [
        "# Define rush hours (morning: 7-9, evening: 17-19) and off-peak hours (0-5)\n",
        "rush_hours = [7, 8, 9, 17, 18, 19]\n",
        "off_peak_hours = [0, 1, 2, 3, 4, 5]"
      ]
    },
    {
      "cell_type": "code",
      "execution_count": null,
      "metadata": {
        "id": "c-lRFU-M1aNW"
      },
      "outputs": [],
      "source": [
        "# Separate data\n",
        "rush_hour_rentals = perjam.loc[rush_hours]\n",
        "off_peak_rentals = perjam.loc[off_peak_hours]"
      ]
    },
    {
      "cell_type": "code",
      "execution_count": null,
      "metadata": {
        "colab": {
          "base_uri": "https://localhost:8080/",
          "height": 492
        },
        "id": "2QBNiJai1XwH",
        "outputId": "62568763-095a-4d7d-9ae1-933aacdc75a1"
      },
      "outputs": [],
      "source": [
        "plt.figure(figsize=(10, 5))\n",
        "\n",
        "# Garis utama untuk total penyewaan sepeda\n",
        "sns.lineplot(x=perjam.index, y=perjam.values, marker=\"o\", label=\"Total Rentals\", color=\"darkblue\", linewidth=2)\n",
        "\n",
        "# Titik merah untuk jam sibuk (rush hours)\n",
        "sns.scatterplot(x=rush_hour_rentals.index, y=rush_hour_rentals.values, color=\"red\", s=100, edgecolor=\"black\", label=\"Rush Hours\")\n",
        "\n",
        "# Titik hijau untuk jam sepi (off-peak hours)\n",
        "sns.scatterplot(x=off_peak_rentals.index, y=off_peak_rentals.values, color=\"green\", s=100, edgecolor=\"black\", label=\"Off-Peak Hours\")\n",
        "\n",
        "plt.title(\"Pola Penyewaan Sepeda Berdasarkan Waktu dalam Sehari\", fontsize=14, fontweight=\"bold\")\n",
        "plt.xlabel(\"Jam\", fontsize=12)\n",
        "plt.ylabel(\"Rata-rata Penyewaan\", fontsize=12)\n",
        "plt.xticks(range(0, 24))\n",
        "plt.grid(True, linestyle=\"--\", alpha=0.7)\n",
        "plt.legend()\n",
        "plt.show()\n"
      ]
    },
    {
      "cell_type": "markdown",
      "metadata": {
        "id": "_0-36BDLklRg"
      },
      "source": [
        "**Insight:**\n",
        "- Penyewaan cenderung lebih tinggi pada hari biasa, sehingga bisnis dapat menerapkan strategi seperti promo di hari libur untuk meningkatkan permintaan dan menjaga tingkat penyewaan pada hari libur.\n",
        "-Semakin tinggi suhu, semakin banyak penyewaan sepeda. Hal ini dapat dimanfaatkan dengan menambah stok sepeda dan layanan pada musim panas untuk menghadapi lonjakan permintaan.\n",
        "- Penyewaan memuncak pada jam sibuk pagi dan sore hari, menunjukkan bahwa banyak pelanggan menggunakan sepeda untuk keperluan transportasi. Pada bisnis penyewaan ini dapat mengoptimalkan operasional, seperti meningkatkan ketersediaan sepeda dan layanan pada jam-jam tersebut untuk memberikan pengalaman terbaik bagi pelanggan."
      ]
    },
    {
      "cell_type": "markdown",
      "metadata": {
        "id": "9y4VUsmcYNZ5"
      },
      "source": [
        "## Analisis Lanjutan (Opsional)"
      ]
    },
    {
      "cell_type": "code",
      "execution_count": null,
      "metadata": {
        "id": "Z7JTczoEJIVG"
      },
      "outputs": [],
      "source": []
    },
    {
      "cell_type": "markdown",
      "metadata": {
        "id": "_WeHlCeX8DC2"
      },
      "source": [
        "## Conclusion"
      ]
    },
    {
      "cell_type": "markdown",
      "metadata": {
        "id": "ZTcyR48Y8DC2"
      },
      "source": [
        "- Conclution pertanyaan 1 : Rata-rata penyewaan pada hari biasa lebih tinggi dibandingkan hari libur, seperti terlihat dari perbedaan tinggi batang pada diagram. Namun, terdapat variasi dalam data yang ditunjukkan oleh garis error di atas batang, menandakan fluktuasi jumlah penyewaan di kedua kategori.\n",
        "\n",
        "- Conclution pertanyaan 2 : Terlihat adanya korelasi positif antara suhu dan jumlah penyewaan sepeda. Garis regresi merah menunjukkan bahwa semakin tinggi suhu, semakin banyak jumlah penyewaan sepeda. Namun, data juga menunjukkan adanya penyebaran yang cukup luas, terutama pada suhu tinggi, yang menandakan variasi dalam jumlah penyewaan meskipun suhu meningkat.\n",
        "\n",
        "- Conclution pertanyaan 3 : Terlihat bahwa jumlah penyewaan meningkat tajam pada jam sibuk (rush hours), yaitu sekitar pukul 7-9 pagi dan 17-19 sore, yang ditandai dengan titik merah. Pola ini menunjukan bahwa sepeda banyak digunakan untuk keperluan perjalanan kerja atau sekolah. Sementara itu, jumlah penyewaan lebih rendah pada dini hari dan malam, dengan titik hijau menandai jam sepi (off-peak hours)."
      ]
    }
  ],
  "metadata": {
    "colab": {
      "provenance": []
    },
    "kernelspec": {
      "display_name": "Python 3",
      "language": "python",
      "name": "python3"
    },
    "language_info": {
      "name": "python",
      "version": "3.11.0"
    },
    "orig_nbformat": 4,
    "vscode": {
      "interpreter": {
        "hash": "972b3bf27e332e87b5379f2791f6ef9dfc79c71018c370b0d7423235e20fe4d7"
      }
    }
  },
  "nbformat": 4,
  "nbformat_minor": 0
}
